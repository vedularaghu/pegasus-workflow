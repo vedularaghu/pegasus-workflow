{
 "cells": [
  {
   "cell_type": "code",
   "execution_count": 1,
   "metadata": {},
   "outputs": [],
   "source": [
    "import logging\n",
    "from pathlib import Path\n",
    "from Pegasus.api import *"
   ]
  },
  {
   "cell_type": "code",
   "execution_count": 2,
   "metadata": {},
   "outputs": [],
   "source": [
    "logging.basicConfig(level = logging.DEBUG)"
   ]
  },
  {
   "cell_type": "code",
   "execution_count": 3,
   "metadata": {},
   "outputs": [],
   "source": [
    "fa = File(\"number.txt\")"
   ]
  },
  {
   "cell_type": "code",
   "execution_count": 4,
   "metadata": {},
   "outputs": [],
   "source": [
    "rc = ReplicaCatalog().add_replica(\"local\", fa, Path(\".\").resolve() / \"number.txt\")"
   ]
  },
  {
   "cell_type": "code",
   "execution_count": 5,
   "metadata": {},
   "outputs": [],
   "source": [
    "increment  = Transformation(\n",
    "                \"increment\",\n",
    "                site=\"local\",\n",
    "                pfn=\"/home/scitech/shared-data/increment.py\",\n",
    "                is_stageable=True,\n",
    "                arch=Arch.X86_64,\n",
    "                os_type=OS.LINUX\n",
    "            )"
   ]
  },
  {
   "cell_type": "code",
   "execution_count": 6,
   "metadata": {},
   "outputs": [],
   "source": [
    "tc = TransformationCatalog().add_transformations(increment)"
   ]
  },
  {
   "cell_type": "code",
   "execution_count": 7,
   "metadata": {},
   "outputs": [],
   "source": [
    "wf = Workflow(\"increment\")"
   ]
  },
  {
   "cell_type": "code",
   "execution_count": 8,
   "metadata": {},
   "outputs": [],
   "source": [
    "fb = File(\"output.txt\")"
   ]
  },
  {
   "cell_type": "code",
   "execution_count": 9,
   "metadata": {},
   "outputs": [],
   "source": [
    "job_increment = Job(increment)\\\n",
    "                    .add_args(fa, fb)\\\n",
    "                    .add_inputs(fa)\\\n",
    "                    .add_outputs(fb)"
   ]
  },
  {
   "cell_type": "code",
   "execution_count": 10,
   "metadata": {},
   "outputs": [
    {
     "data": {
      "text/plain": [
       "<Pegasus.api.workflow.Workflow at 0x7fb5ec0ea2b0>"
      ]
     },
     "execution_count": 10,
     "metadata": {},
     "output_type": "execute_result"
    }
   ],
   "source": [
    "wf.add_jobs(job_increment)\n",
    "wf.add_replica_catalog(rc)\n",
    "wf.add_transformation_catalog(tc)"
   ]
  },
  {
   "cell_type": "code",
   "execution_count": 12,
   "metadata": {},
   "outputs": [
    {
     "name": "stderr",
     "output_type": "stream",
     "text": [
      "Plan:\n",
      "2020.07.07 23:01:33.391 UTC:    \n",
      "2020.07.07 23:01:33.397 UTC:   ----------------------------------------------------------------------- \n",
      "2020.07.07 23:01:33.402 UTC:   File for submitting this DAG to HTCondor           : increment-0.dag.condor.sub \n",
      "2020.07.07 23:01:33.408 UTC:   Log of DAGMan debugging messages                 : increment-0.dag.dagman.out \n",
      "2020.07.07 23:01:33.413 UTC:   Log of HTCondor library output                     : increment-0.dag.lib.out \n",
      "2020.07.07 23:01:33.419 UTC:   Log of HTCondor library error messages             : increment-0.dag.lib.err \n",
      "2020.07.07 23:01:33.426 UTC:   Log of the life of condor_dagman itself          : increment-0.dag.dagman.log \n",
      "2020.07.07 23:01:33.432 UTC:    \n",
      "2020.07.07 23:01:33.438 UTC:   -no_submit given, not submitting DAG to HTCondor.  You can do this with: \n",
      "2020.07.07 23:01:33.450 UTC:   ----------------------------------------------------------------------- \n",
      "2020.07.07 23:01:34.565 UTC:   Your database is compatible with Pegasus version: 5.0.0dev \n",
      "2020.07.07 23:01:36.389 UTC:   Created Pegasus database in: sqlite:////home/scitech/shared-data/scitech/pegasus/increment/run0004/increment-0.replicas.db \n",
      "2020.07.07 23:01:36.394 UTC:   Your database is compatible with Pegasus version: 5.0.0dev \n",
      "2020.07.07 23:01:36.456 UTC:   Output replica catalog set to jdbc:sqlite:/home/scitech/shared-data/scitech/pegasus/increment/run0004/increment-0.replicas.db \n",
      "2020.07.07 23:01:36.762 UTC:   Submitting to condor increment-0.dag.condor.sub \n",
      "2020.07.07 23:01:36.794 UTC:    \n",
      "2020.07.07 23:01:36.799 UTC:   Your workflow has been started and is running in the base directory: \n",
      "2020.07.07 23:01:36.805 UTC:    \n",
      "2020.07.07 23:01:36.810 UTC:   /home/scitech/shared-data/scitech/pegasus/increment/run0004 \n",
      "2020.07.07 23:01:36.816 UTC:    \n",
      "2020.07.07 23:01:36.821 UTC:   *** To monitor the workflow you can run *** \n",
      "2020.07.07 23:01:36.827 UTC:    \n",
      "2020.07.07 23:01:36.832 UTC:   pegasus-status -l /home/scitech/shared-data/scitech/pegasus/increment/run0004 \n",
      "2020.07.07 23:01:36.838 UTC:    \n",
      "2020.07.07 23:01:36.844 UTC:   *** To remove your workflow run *** \n",
      "2020.07.07 23:01:36.849 UTC:    \n",
      "2020.07.07 23:01:36.856 UTC:   pegasus-remove /home/scitech/shared-data/scitech/pegasus/increment/run0004 \n",
      "2020.07.07 23:01:37.502 UTC:   Time taken to execute is 5.32 seconds \n",
      " \n",
      "\n"
     ]
    },
    {
     "name": "stdout",
     "output_type": "stream",
     "text": [
      "[\u001b[1;32m##################################################\u001b[0m] 100.0% ..Success (\u001b[1;32mCompleted: 8\u001b[0m, \u001b[1;33mQueued: 0\u001b[0m, \u001b[1;36mRunning: 0\u001b[0m, \u001b[1;31mFailed: 0\u001b[0m)\n"
     ]
    },
    {
     "name": "stderr",
     "output_type": "stream",
     "text": [
      "Analyzer:\n",
      "Your database is compatible with Pegasus version: 5.0.0dev\n",
      "\n",
      "************************************Summary*************************************\n",
      "\n",
      " Submit Directory   : /home/scitech/shared-data/scitech/pegasus/increment/run0004\n",
      " Total jobs         :      8 (100.00%)\n",
      " # jobs succeeded   :      8 (100.00%)\n",
      " # jobs failed      :      0 (0.00%)\n",
      " # jobs held        :      0 (0.00%)\n",
      " # jobs unsubmitted :      0 (0.00%)\n",
      "\n",
      " \n",
      "\n",
      "Statistics:\n",
      "Your database is compatible with Pegasus version: 5.0.0dev\n",
      "\n",
      "#\n",
      "# Pegasus Workflow Management System - http://pegasus.isi.edu\n",
      "#\n",
      "# Workflow summary:\n",
      "#   Summary of the workflow execution. It shows total\n",
      "#   tasks/jobs/sub workflows run, how many succeeded/failed etc.\n",
      "#   In case of hierarchical workflow the calculation shows the\n",
      "#   statistics across all the sub workflows.It shows the following\n",
      "#   statistics about tasks, jobs and sub workflows.\n",
      "#     * Succeeded - total count of succeeded tasks/jobs/sub workflows.\n",
      "#     * Failed - total count of failed tasks/jobs/sub workflows.\n",
      "#     * Incomplete - total count of tasks/jobs/sub workflows that are\n",
      "#       not in succeeded or failed state. This includes all the jobs\n",
      "#       that are not submitted, submitted but not completed etc. This\n",
      "#       is calculated as  difference between 'total' count and sum of\n",
      "#       'succeeded' and 'failed' count.\n",
      "#     * Total - total count of tasks/jobs/sub workflows.\n",
      "#     * Retries - total retry count of tasks/jobs/sub workflows.\n",
      "#     * Total+Retries - total count of tasks/jobs/sub workflows executed\n",
      "#       during workflow run. This is the cumulative of retries,\n",
      "#       succeeded and failed count.\n",
      "# Workflow wall time:\n",
      "#   The wall time from the start of the workflow execution to the end as\n",
      "#   reported by the DAGMAN.In case of rescue dag the value is the\n",
      "#   cumulative of all retries.\n",
      "# Cumulative job wall time:\n",
      "#   The sum of the wall time of all jobs as reported by kickstart.\n",
      "#   In case of job retries the value is the cumulative of all retries.\n",
      "#   For workflows having sub workflow jobs (i.e SUBDAG and SUBDAX jobs),\n",
      "#   the wall time value includes jobs from the sub workflows as well.\n",
      "# Cumulative job wall time as seen from submit side:\n",
      "#   The sum of the wall time of all jobs as reported by DAGMan.\n",
      "#   This is similar to the regular cumulative job wall time, but includes\n",
      "#   job management overhead and delays. In case of job retries the value\n",
      "#   is the cumulative of all retries. For workflows having sub workflow\n",
      "#   jobs (i.e SUBDAG and SUBDAX jobs), the wall time value includes jobs\n",
      "#   from the sub workflows as well.\n",
      "# Cumulative job badput wall time:\n",
      "#   The sum of the wall time of all failed jobs as reported by kickstart.\n",
      "#   In case of job retries the value is the cumulative of all retries.\n",
      "#   For workflows having sub workflow jobs (i.e SUBDAG and SUBDAX jobs),\n",
      "#   the wall time value includes jobs from the sub workflows as well.\n",
      "# Cumulative job badput wall time as seen from submit side:\n",
      "#   The sum of the wall time of all failed jobs as reported by DAGMan.\n",
      "#   This is similar to the regular cumulative job badput wall time, but includes\n",
      "#   job management overhead and delays. In case of job retries the value\n",
      "#   is the cumulative of all retries. For workflows having sub workflow\n",
      "#   jobs (i.e SUBDAG and SUBDAX jobs), the wall time value includes jobs\n",
      "#   from the sub workflows as well.\n",
      "------------------------------------------------------------------------------\n",
      "Type           Succeeded Failed  Incomplete  Total     Retries   Total+Retries\n",
      "Tasks          1         0       0           1         0         1            \n",
      "Jobs           8         0       0           8         0         8            \n",
      "Sub-Workflows  0         0       0           0         0         0            \n",
      "------------------------------------------------------------------------------\n",
      "\n",
      "Workflow wall time                                       : 1 min, 50 secs\n",
      "Cumulative job wall time                                 : 20.29 secs\n",
      "Cumulative job wall time as seen from submit side        : 23.0 secs\n",
      "Cumulative job badput wall time                          : 0.0 secs\n",
      "Cumulative job badput wall time as seen from submit side : 0.0 secs\n",
      "\n",
      "# Integrity Metrics\n",
      "# Number of files for which checksums were compared/computed along with total time spent doing it. \n",
      "3 files checksums compared with total duration of 0.16 secs\n",
      "3 files checksums generated with total duration of 0.05 secs\n",
      "\n",
      "# Integrity Errors\n",
      "# Total:\n",
      "#       Total number of integrity errors encountered across all job executions(including retries) of a workflow.\n",
      "# Failures:\n",
      "#       Number of failed jobs where the last job instance had integrity errors.\n",
      "Failures: 0 job failures had integrity errors\n",
      "\n",
      "Summary                       : /home/scitech/shared-data/scitech/pegasus/increment/run0004/statistics/summary.txt\n",
      "\n",
      " \n",
      "\n"
     ]
    }
   ],
   "source": [
    "try:\n",
    "    wf.plan(submit=True)\\\n",
    "        .wait()\\\n",
    "        .analyze()\\\n",
    "        .statistics()\n",
    "except PegasusClientError as e:\n",
    "    print(e.output)"
   ]
  },
  {
   "cell_type": "code",
   "execution_count": null,
   "metadata": {},
   "outputs": [],
   "source": []
  }
 ],
 "metadata": {
  "kernelspec": {
   "display_name": "Python 3",
   "language": "python",
   "name": "python3"
  },
  "language_info": {
   "codemirror_mode": {
    "name": "ipython",
    "version": 3
   },
   "file_extension": ".py",
   "mimetype": "text/x-python",
   "name": "python",
   "nbconvert_exporter": "python",
   "pygments_lexer": "ipython3",
   "version": "3.6.8"
  }
 },
 "nbformat": 4,
 "nbformat_minor": 4
}
