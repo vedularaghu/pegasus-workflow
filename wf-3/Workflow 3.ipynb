{
 "cells": [
  {
   "cell_type": "code",
   "execution_count": 1,
   "metadata": {},
   "outputs": [],
   "source": [
    "import logging\n",
    "from pathlib import Path\n",
    "from Pegasus.api import *"
   ]
  },
  {
   "cell_type": "code",
   "execution_count": 2,
   "metadata": {},
   "outputs": [],
   "source": [
    "logging.basicConfig(level=logging.DEBUG)"
   ]
  },
  {
   "cell_type": "code",
   "execution_count": 3,
   "metadata": {},
   "outputs": [],
   "source": [
    "seperate = Transformation(\n",
    "                \"seperate\",\n",
    "                site=\"local\",\n",
    "                pfn=\"/home/scitech/shared-data/increment.py\",\n",
    "                is_stageable=True,\n",
    "                arch=Arch.X86_64,\n",
    "                os_type=OS.LINUX\n",
    "            )\n",
    "\n",
    "count = Transformation(\n",
    "                \"count\",\n",
    "                site=\"local\",\n",
    "                pfn=\"/home/scitech/shared-data/count.py\",\n",
    "                is_stageable=True,\n",
    "                arch=Arch.X86_64,\n",
    "                os_type=OS.LINUX\n",
    "            )\n",
    "\n",
    "tar = Transformation(\n",
    "                \"tar\",\n",
    "                site=\"local\",\n",
    "                pfn=\"/bin/tar\",\n",
    "                is_stageable=True,\n",
    "                arch=Arch.X86_64,\n",
    "                os_type=OS.LINUX\n",
    "            )"
   ]
  },
  {
   "cell_type": "code",
   "execution_count": 4,
   "metadata": {},
   "outputs": [],
   "source": [
    "tc = TransformationCatalog().add_transformations(seperate, count, tar)"
   ]
  },
  {
   "cell_type": "code",
   "execution_count": 5,
   "metadata": {},
   "outputs": [],
   "source": [
    "wf = Workflow(\"workflow3\")"
   ]
  },
  {
   "cell_type": "code",
   "execution_count": 7,
   "metadata": {},
   "outputs": [],
   "source": [
    "\n",
    "job_seperate = Job(seperate)\n",
    "\n",
    "fb1 = File(\"odd_nums.txt\")\n",
    "fb2 = File(\"even_nums.txt\")\n",
    "fc1 = File(\"odd_count.txt\")\n",
    "fc2 = File(\"even_count.txt\")\n",
    "\n",
    "job_count_odd = Job(count)\\\n",
    "                .add_args(fb1, fc1)\\\n",
    "                .add_inputs(fb1)\\\n",
    "                .add_outputs(fc1)\n",
    "\n",
    "job_count_even = Job(count)\\\n",
    "                .add_args(fb2, fc2)\\\n",
    "                .add_inputs(fb2)\\\n",
    "                .add_outputs(fc2)\n",
    "\n",
    "fc3 = File(\"result.tar.gz\")\n",
    "\n",
    "job_tar = Job(tar)\\\n",
    "            .add_args(fc1, fc2)\\\n",
    "            .add_inputs(fc1, fc2)\\\n",
    "            .set_stdout(fc3)\n",
    "\n"
   ]
  },
  {
   "cell_type": "code",
   "execution_count": 8,
   "metadata": {},
   "outputs": [
    {
     "data": {
      "text/plain": [
       "<Pegasus.api.workflow.Workflow at 0x7fc5269f9630>"
      ]
     },
     "execution_count": 8,
     "metadata": {},
     "output_type": "execute_result"
    }
   ],
   "source": [
    "wf.add_jobs(job_seperate, job_count_odd, job_count_even, job_tar)\n",
    "wf.add_transformation_catalog(tc)"
   ]
  },
  {
   "cell_type": "code",
   "execution_count": 9,
   "metadata": {},
   "outputs": [
    {
     "name": "stdout",
     "output_type": "stream",
     "text": [
      "\n",
      "2020.07.08 00:46:28.665 UTC: [WARNING]  Replica Catalog is either down or connection to it was never opened  \n",
      "2020.07.08 00:46:28.858 UTC: [FATAL ERROR]  \n",
      " [1] java.lang.RuntimeException: TransferEngine.java: Can't determine a location to transfer input file for lfn even_nums.txt for job count_ID0000003 at edu.isi.pegasus.planner.refiner.TransferEngine.getFilesFromRC(TransferEngine.java:1403) \n",
      "\n"
     ]
    }
   ],
   "source": [
    "try:\n",
    "    wf.plan(submit=True)\\\n",
    "        .wait()\\\n",
    "        .analyze()\\\n",
    "        .statistics()\n",
    "except PegasusClientError as e:\n",
    "    print(e.output)"
   ]
  },
  {
   "cell_type": "code",
   "execution_count": null,
   "metadata": {},
   "outputs": [],
   "source": []
  }
 ],
 "metadata": {
  "kernelspec": {
   "display_name": "Python 3",
   "language": "python",
   "name": "python3"
  },
  "language_info": {
   "codemirror_mode": {
    "name": "ipython",
    "version": 3
   },
   "file_extension": ".py",
   "mimetype": "text/x-python",
   "name": "python",
   "nbconvert_exporter": "python",
   "pygments_lexer": "ipython3",
   "version": "3.6.8"
  }
 },
 "nbformat": 4,
 "nbformat_minor": 4
}
