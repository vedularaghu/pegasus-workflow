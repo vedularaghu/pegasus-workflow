{
 "cells": [
  {
   "cell_type": "code",
   "execution_count": 1,
   "metadata": {},
   "outputs": [],
   "source": [
    "import logging\n",
    "from pathlib import Path\n",
    "from Pegasus.api import *"
   ]
  },
  {
   "cell_type": "code",
   "execution_count": 2,
   "metadata": {},
   "outputs": [],
   "source": [
    "logging.basicConfig(level = logging.DEBUG)"
   ]
  },
  {
   "cell_type": "code",
   "execution_count": 3,
   "metadata": {},
   "outputs": [],
   "source": [
    "echo = Transformation(\n",
    "                    \"echo\",\n",
    "                    site=\"condorpool\",\n",
    "                    pfn=\"/bin/echo\",\n",
    "                    is_stageable=False,\n",
    "                    arch=Arch.X86_64,\n",
    "                    os_type=OS.LINUX\n",
    "                )"
   ]
  },
  {
   "cell_type": "code",
   "execution_count": 4,
   "metadata": {},
   "outputs": [],
   "source": [
    "tc = TransformationCatalog().add_transformations(echo)"
   ]
  },
  {
   "cell_type": "code",
   "execution_count": 5,
   "metadata": {},
   "outputs": [],
   "source": [
    "wf = Workflow(\"print\")"
   ]
  },
  {
   "cell_type": "code",
   "execution_count": 6,
   "metadata": {},
   "outputs": [],
   "source": [
    "fb = File(\"stdout.txt\")"
   ]
  },
  {
   "cell_type": "code",
   "execution_count": 7,
   "metadata": {},
   "outputs": [],
   "source": [
    "job_print = Job(echo)\\\n",
    "                .add_args(\"hello world\")\\\n",
    "                .set_stdout(fb)             "
   ]
  },
  {
   "cell_type": "code",
   "execution_count": 8,
   "metadata": {},
   "outputs": [
    {
     "data": {
      "text/plain": [
       "<Pegasus.api.workflow.Workflow at 0x7fbae03e2278>"
      ]
     },
     "execution_count": 8,
     "metadata": {},
     "output_type": "execute_result"
    }
   ],
   "source": [
    "wf.add_jobs(job_print)\n",
    "wf.add_transformation_catalog(tc)"
   ]
  },
  {
   "cell_type": "code",
   "execution_count": 9,
   "metadata": {},
   "outputs": [
    {
     "name": "stderr",
     "output_type": "stream",
     "text": [
      "Plan:\n",
      "2020.07.07 22:28:09.664 UTC:    \n",
      "2020.07.07 22:28:09.669 UTC:   ----------------------------------------------------------------------- \n",
      "2020.07.07 22:28:09.675 UTC:   File for submitting this DAG to HTCondor           : print-0.dag.condor.sub \n",
      "2020.07.07 22:28:09.680 UTC:   Log of DAGMan debugging messages                 : print-0.dag.dagman.out \n",
      "2020.07.07 22:28:09.686 UTC:   Log of HTCondor library output                     : print-0.dag.lib.out \n",
      "2020.07.07 22:28:09.692 UTC:   Log of HTCondor library error messages             : print-0.dag.lib.err \n",
      "2020.07.07 22:28:09.698 UTC:   Log of the life of condor_dagman itself          : print-0.dag.dagman.log \n",
      "2020.07.07 22:28:09.704 UTC:    \n",
      "2020.07.07 22:28:09.710 UTC:   -no_submit given, not submitting DAG to HTCondor.  You can do this with: \n",
      "2020.07.07 22:28:09.721 UTC:   ----------------------------------------------------------------------- \n",
      "2020.07.07 22:28:10.906 UTC:   Your database is compatible with Pegasus version: 5.0.0dev \n",
      "2020.07.07 22:28:12.631 UTC:   Created Pegasus database in: sqlite:////home/scitech/shared-data/scitech/pegasus/print/run0008/print-0.replicas.db \n",
      "2020.07.07 22:28:12.636 UTC:   Your database is compatible with Pegasus version: 5.0.0dev \n",
      "2020.07.07 22:28:12.700 UTC:   Output replica catalog set to jdbc:sqlite:/home/scitech/shared-data/scitech/pegasus/print/run0008/print-0.replicas.db \n",
      "2020.07.07 22:28:12.919 UTC:   Submitting to condor print-0.dag.condor.sub \n",
      "2020.07.07 22:28:12.949 UTC:    \n",
      "2020.07.07 22:28:12.955 UTC:   Your workflow has been started and is running in the base directory: \n",
      "2020.07.07 22:28:12.960 UTC:    \n",
      "2020.07.07 22:28:12.966 UTC:   /home/scitech/shared-data/scitech/pegasus/print/run0008 \n",
      "2020.07.07 22:28:12.973 UTC:    \n",
      "2020.07.07 22:28:12.979 UTC:   *** To monitor the workflow you can run *** \n",
      "2020.07.07 22:28:12.984 UTC:    \n",
      "2020.07.07 22:28:12.991 UTC:   pegasus-status -l /home/scitech/shared-data/scitech/pegasus/print/run0008 \n",
      "2020.07.07 22:28:12.997 UTC:    \n",
      "2020.07.07 22:28:13.002 UTC:   *** To remove your workflow run *** \n",
      "2020.07.07 22:28:13.008 UTC:    \n",
      "2020.07.07 22:28:13.014 UTC:   pegasus-remove /home/scitech/shared-data/scitech/pegasus/print/run0008 \n",
      "2020.07.07 22:28:13.687 UTC:   Time taken to execute is 5.208 seconds \n",
      " \n",
      "2020.07.07 22:28:09.009 UTC: [WARNING]  Replica Catalog is either down or connection to it was never opened  \n",
      "\n"
     ]
    },
    {
     "name": "stdout",
     "output_type": "stream",
     "text": [
      "[\u001b[1;32m##################################################\u001b[0m] 100.0% ..Success (\u001b[1;32mCompleted: 6\u001b[0m, \u001b[1;33mQueued: 0\u001b[0m, \u001b[1;36mRunning: 0\u001b[0m, \u001b[1;31mFailed: 0\u001b[0m)\n"
     ]
    },
    {
     "name": "stderr",
     "output_type": "stream",
     "text": [
      "Analyzer:\n",
      "Your database is compatible with Pegasus version: 5.0.0dev\n",
      "\n",
      "************************************Summary*************************************\n",
      "\n",
      " Submit Directory   : /home/scitech/shared-data/scitech/pegasus/print/run0008\n",
      " Total jobs         :      6 (100.00%)\n",
      " # jobs succeeded   :      6 (100.00%)\n",
      " # jobs failed      :      0 (0.00%)\n",
      " # jobs held        :      0 (0.00%)\n",
      " # jobs unsubmitted :      0 (0.00%)\n",
      "\n",
      " \n",
      "\n",
      "Statistics:\n",
      "Your database is compatible with Pegasus version: 5.0.0dev\n",
      "\n",
      "#\n",
      "# Pegasus Workflow Management System - http://pegasus.isi.edu\n",
      "#\n",
      "# Workflow summary:\n",
      "#   Summary of the workflow execution. It shows total\n",
      "#   tasks/jobs/sub workflows run, how many succeeded/failed etc.\n",
      "#   In case of hierarchical workflow the calculation shows the\n",
      "#   statistics across all the sub workflows.It shows the following\n",
      "#   statistics about tasks, jobs and sub workflows.\n",
      "#     * Succeeded - total count of succeeded tasks/jobs/sub workflows.\n",
      "#     * Failed - total count of failed tasks/jobs/sub workflows.\n",
      "#     * Incomplete - total count of tasks/jobs/sub workflows that are\n",
      "#       not in succeeded or failed state. This includes all the jobs\n",
      "#       that are not submitted, submitted but not completed etc. This\n",
      "#       is calculated as  difference between 'total' count and sum of\n",
      "#       'succeeded' and 'failed' count.\n",
      "#     * Total - total count of tasks/jobs/sub workflows.\n",
      "#     * Retries - total retry count of tasks/jobs/sub workflows.\n",
      "#     * Total+Retries - total count of tasks/jobs/sub workflows executed\n",
      "#       during workflow run. This is the cumulative of retries,\n",
      "#       succeeded and failed count.\n",
      "# Workflow wall time:\n",
      "#   The wall time from the start of the workflow execution to the end as\n",
      "#   reported by the DAGMAN.In case of rescue dag the value is the\n",
      "#   cumulative of all retries.\n",
      "# Cumulative job wall time:\n",
      "#   The sum of the wall time of all jobs as reported by kickstart.\n",
      "#   In case of job retries the value is the cumulative of all retries.\n",
      "#   For workflows having sub workflow jobs (i.e SUBDAG and SUBDAX jobs),\n",
      "#   the wall time value includes jobs from the sub workflows as well.\n",
      "# Cumulative job wall time as seen from submit side:\n",
      "#   The sum of the wall time of all jobs as reported by DAGMan.\n",
      "#   This is similar to the regular cumulative job wall time, but includes\n",
      "#   job management overhead and delays. In case of job retries the value\n",
      "#   is the cumulative of all retries. For workflows having sub workflow\n",
      "#   jobs (i.e SUBDAG and SUBDAX jobs), the wall time value includes jobs\n",
      "#   from the sub workflows as well.\n",
      "# Cumulative job badput wall time:\n",
      "#   The sum of the wall time of all failed jobs as reported by kickstart.\n",
      "#   In case of job retries the value is the cumulative of all retries.\n",
      "#   For workflows having sub workflow jobs (i.e SUBDAG and SUBDAX jobs),\n",
      "#   the wall time value includes jobs from the sub workflows as well.\n",
      "# Cumulative job badput wall time as seen from submit side:\n",
      "#   The sum of the wall time of all failed jobs as reported by DAGMan.\n",
      "#   This is similar to the regular cumulative job badput wall time, but includes\n",
      "#   job management overhead and delays. In case of job retries the value\n",
      "#   is the cumulative of all retries. For workflows having sub workflow\n",
      "#   jobs (i.e SUBDAG and SUBDAX jobs), the wall time value includes jobs\n",
      "#   from the sub workflows as well.\n",
      "------------------------------------------------------------------------------\n",
      "Type           Succeeded Failed  Incomplete  Total     Retries   Total+Retries\n",
      "Tasks          1         0       0           1         0         1            \n",
      "Jobs           6         0       0           6         0         6            \n",
      "Sub-Workflows  0         0       0           0         0         0            \n",
      "------------------------------------------------------------------------------\n",
      "\n",
      "Workflow wall time                                       : 1 min, 30 secs\n",
      "Cumulative job wall time                                 : 12.03 secs\n",
      "Cumulative job wall time as seen from submit side        : 13.0 secs\n",
      "Cumulative job badput wall time                          : 0.0 secs\n",
      "Cumulative job badput wall time as seen from submit side : 0.0 secs\n",
      "\n",
      "# Integrity Metrics\n",
      "# Number of files for which checksums were compared/computed along with total time spent doing it. \n",
      "1 files checksums compared with total duration of 0.15 secs\n",
      "1 files checksums generated with total duration of 0.00 secs\n",
      "\n",
      "# Integrity Errors\n",
      "# Total:\n",
      "#       Total number of integrity errors encountered across all job executions(including retries) of a workflow.\n",
      "# Failures:\n",
      "#       Number of failed jobs where the last job instance had integrity errors.\n",
      "Failures: 0 job failures had integrity errors\n",
      "\n",
      "Summary                       : /home/scitech/shared-data/scitech/pegasus/print/run0008/statistics/summary.txt\n",
      "\n",
      " \n",
      "\n"
     ]
    }
   ],
   "source": [
    "try:\n",
    "    wf.plan(submit=True)\\\n",
    "        .wait()\\\n",
    "        .analyze()\\\n",
    "        .statistics()\n",
    "except PegasusClientError as e:\n",
    "    print(e.output)"
   ]
  },
  {
   "cell_type": "code",
   "execution_count": null,
   "metadata": {},
   "outputs": [],
   "source": []
  }
 ],
 "metadata": {
  "kernelspec": {
   "display_name": "Python 3",
   "language": "python",
   "name": "python3"
  },
  "language_info": {
   "codemirror_mode": {
    "name": "ipython",
    "version": 3
   },
   "file_extension": ".py",
   "mimetype": "text/x-python",
   "name": "python",
   "nbconvert_exporter": "python",
   "pygments_lexer": "ipython3",
   "version": "3.6.8"
  }
 },
 "nbformat": 4,
 "nbformat_minor": 4
}
