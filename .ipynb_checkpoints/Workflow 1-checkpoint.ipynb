{
 "cells": [
  {
   "cell_type": "code",
   "execution_count": 12,
   "metadata": {},
   "outputs": [],
   "source": [
    "import logging\n",
    "from pathlib import Path\n",
    "from Pegasus.api import *"
   ]
  },
  {
   "cell_type": "code",
   "execution_count": 37,
   "metadata": {},
   "outputs": [],
   "source": [
    "logging.basicConfig(level = logging.DEBUG)"
   ]
  },
  {
   "cell_type": "code",
   "execution_count": 26,
   "metadata": {},
   "outputs": [],
   "source": [
    "echo = Transformation(\n",
    "                    \"echo\",\n",
    "                    site=\"condorpool\",\n",
    "                    pfn=\"/home/scitech/pegasus/dist/pegasus-5.0.0dev/bin/pegasus-keg\",\n",
    "                    is_stageable=False,\n",
    "                    arch=Arch.X86_64,\n",
    "                    os_type=OS.LINUX\n",
    "                )"
   ]
  },
  {
   "cell_type": "code",
   "execution_count": 27,
   "metadata": {},
   "outputs": [],
   "source": [
    "tc = TransformationCatalog().add_transformations(echo)"
   ]
  },
  {
   "cell_type": "code",
   "execution_count": 28,
   "metadata": {},
   "outputs": [],
   "source": [
    "wf = Workflow(\"print\")"
   ]
  },
  {
   "cell_type": "code",
   "execution_count": 32,
   "metadata": {},
   "outputs": [],
   "source": [
    "fb = File(\"stdout.txt\")"
   ]
  },
  {
   "cell_type": "code",
   "execution_count": 33,
   "metadata": {},
   "outputs": [],
   "source": [
    "job_print = Job(echo)\\\n",
    "                .add_args(\"-a\", \"print\", \"-T\", \"3\", \"-o\", fb)\\\n",
    "                .add_outputs(fb)                "
   ]
  },
  {
   "cell_type": "code",
   "execution_count": 35,
   "metadata": {},
   "outputs": [
    {
     "ename": "DuplicateError",
     "evalue": "Job with id ID0000002 already added to this workflow",
     "output_type": "error",
     "traceback": [
      "\u001b[0;31m---------------------------------------------------------------------------\u001b[0m",
      "\u001b[0;31mDuplicateError\u001b[0m                            Traceback (most recent call last)",
      "\u001b[0;32m<ipython-input-35-84b7ca393fe1>\u001b[0m in \u001b[0;36m<module>\u001b[0;34m\u001b[0m\n\u001b[0;32m----> 1\u001b[0;31m \u001b[0mwf\u001b[0m\u001b[0;34m.\u001b[0m\u001b[0madd_jobs\u001b[0m\u001b[0;34m(\u001b[0m\u001b[0mjob_print\u001b[0m\u001b[0;34m)\u001b[0m\u001b[0;34m\u001b[0m\u001b[0;34m\u001b[0m\u001b[0m\n\u001b[0m\u001b[1;32m      2\u001b[0m \u001b[0mwf\u001b[0m\u001b[0;34m.\u001b[0m\u001b[0madd_transformation_catalog\u001b[0m\u001b[0;34m(\u001b[0m\u001b[0mtc\u001b[0m\u001b[0;34m)\u001b[0m\u001b[0;34m\u001b[0m\u001b[0;34m\u001b[0m\u001b[0m\n",
      "\u001b[0;32m~/pegasus/dist/pegasus-5.0.0dev/lib64/python3.6/site-packages/Pegasus/api/_utils.py\u001b[0m in \u001b[0;36mwrapper\u001b[0;34m(self, *args, **kwargs)\u001b[0m\n\u001b[1;32m     83\u001b[0m     \u001b[0;34m@\u001b[0m\u001b[0mwraps\u001b[0m\u001b[0;34m(\u001b[0m\u001b[0mf\u001b[0m\u001b[0;34m)\u001b[0m\u001b[0;34m\u001b[0m\u001b[0;34m\u001b[0m\u001b[0m\n\u001b[1;32m     84\u001b[0m     \u001b[0;32mdef\u001b[0m \u001b[0mwrapper\u001b[0m\u001b[0;34m(\u001b[0m\u001b[0mself\u001b[0m\u001b[0;34m,\u001b[0m \u001b[0;34m*\u001b[0m\u001b[0margs\u001b[0m\u001b[0;34m,\u001b[0m \u001b[0;34m**\u001b[0m\u001b[0mkwargs\u001b[0m\u001b[0;34m)\u001b[0m\u001b[0;34m:\u001b[0m\u001b[0;34m\u001b[0m\u001b[0;34m\u001b[0m\u001b[0m\n\u001b[0;32m---> 85\u001b[0;31m         \u001b[0;32massert\u001b[0m \u001b[0mf\u001b[0m\u001b[0;34m(\u001b[0m\u001b[0mself\u001b[0m\u001b[0;34m,\u001b[0m \u001b[0;34m*\u001b[0m\u001b[0margs\u001b[0m\u001b[0;34m,\u001b[0m \u001b[0;34m**\u001b[0m\u001b[0mkwargs\u001b[0m\u001b[0;34m)\u001b[0m \u001b[0;34m==\u001b[0m \u001b[0;32mNone\u001b[0m\u001b[0;34m\u001b[0m\u001b[0;34m\u001b[0m\u001b[0m\n\u001b[0m\u001b[1;32m     86\u001b[0m         \u001b[0;32mreturn\u001b[0m \u001b[0mself\u001b[0m\u001b[0;34m\u001b[0m\u001b[0;34m\u001b[0m\u001b[0m\n\u001b[1;32m     87\u001b[0m \u001b[0;34m\u001b[0m\u001b[0m\n",
      "\u001b[0;32m~/pegasus/dist/pegasus-5.0.0dev/lib64/python3.6/site-packages/Pegasus/api/workflow.py\u001b[0m in \u001b[0;36madd_jobs\u001b[0;34m(self, *jobs)\u001b[0m\n\u001b[1;32m    895\u001b[0m             \u001b[0;32mif\u001b[0m \u001b[0mjob\u001b[0m\u001b[0;34m.\u001b[0m\u001b[0m_id\u001b[0m \u001b[0;32min\u001b[0m \u001b[0mself\u001b[0m\u001b[0;34m.\u001b[0m\u001b[0mjobs\u001b[0m\u001b[0;34m:\u001b[0m\u001b[0;34m\u001b[0m\u001b[0;34m\u001b[0m\u001b[0m\n\u001b[1;32m    896\u001b[0m                 raise DuplicateError(\n\u001b[0;32m--> 897\u001b[0;31m                     \u001b[0;34m\"Job with id {} already added to this workflow\"\u001b[0m\u001b[0;34m.\u001b[0m\u001b[0mformat\u001b[0m\u001b[0;34m(\u001b[0m\u001b[0mjob\u001b[0m\u001b[0;34m.\u001b[0m\u001b[0m_id\u001b[0m\u001b[0;34m)\u001b[0m\u001b[0;34m\u001b[0m\u001b[0;34m\u001b[0m\u001b[0m\n\u001b[0m\u001b[1;32m    898\u001b[0m                 )\n\u001b[1;32m    899\u001b[0m \u001b[0;34m\u001b[0m\u001b[0m\n",
      "\u001b[0;31mDuplicateError\u001b[0m: Job with id ID0000002 already added to this workflow"
     ]
    }
   ],
   "source": [
    "wf.add_jobs(job_print)\n",
    "wf.add_transformation_catalog(tc)"
   ]
  },
  {
   "cell_type": "code",
   "execution_count": 36,
   "metadata": {},
   "outputs": [
    {
     "name": "stderr",
     "output_type": "stream",
     "text": [
      "Plan:\n",
      "2020.07.07 20:08:11.834 UTC:    \n",
      "2020.07.07 20:08:11.840 UTC:   ----------------------------------------------------------------------- \n",
      "2020.07.07 20:08:11.845 UTC:   File for submitting this DAG to HTCondor           : print-0.dag.condor.sub \n",
      "2020.07.07 20:08:11.851 UTC:   Log of DAGMan debugging messages                 : print-0.dag.dagman.out \n",
      "2020.07.07 20:08:11.857 UTC:   Log of HTCondor library output                     : print-0.dag.lib.out \n",
      "2020.07.07 20:08:11.862 UTC:   Log of HTCondor library error messages             : print-0.dag.lib.err \n",
      "2020.07.07 20:08:11.869 UTC:   Log of the life of condor_dagman itself          : print-0.dag.dagman.log \n",
      "2020.07.07 20:08:11.876 UTC:    \n",
      "2020.07.07 20:08:11.882 UTC:   -no_submit given, not submitting DAG to HTCondor.  You can do this with: \n",
      "2020.07.07 20:08:11.894 UTC:   ----------------------------------------------------------------------- \n",
      "2020.07.07 20:08:12.997 UTC:   Your database is compatible with Pegasus version: 5.0.0dev \n",
      "2020.07.07 20:08:14.462 UTC:   Created Pegasus database in: sqlite:////home/scitech/shared-data/scitech/pegasus/print/run0001/print-0.replicas.db \n",
      "2020.07.07 20:08:14.467 UTC:   Your database is compatible with Pegasus version: 5.0.0dev \n",
      "2020.07.07 20:08:14.512 UTC:   Output replica catalog set to jdbc:sqlite:/home/scitech/shared-data/scitech/pegasus/print/run0001/print-0.replicas.db \n",
      "2020.07.07 20:08:14.718 UTC:   Submitting to condor print-0.dag.condor.sub \n",
      "2020.07.07 20:08:14.759 UTC:    \n",
      "2020.07.07 20:08:14.765 UTC:   Your workflow has been started and is running in the base directory: \n",
      "2020.07.07 20:08:14.770 UTC:    \n",
      "2020.07.07 20:08:14.776 UTC:   /home/scitech/shared-data/scitech/pegasus/print/run0001 \n",
      "2020.07.07 20:08:14.781 UTC:    \n",
      "2020.07.07 20:08:14.786 UTC:   *** To monitor the workflow you can run *** \n",
      "2020.07.07 20:08:14.792 UTC:    \n",
      "2020.07.07 20:08:14.797 UTC:   pegasus-status -l /home/scitech/shared-data/scitech/pegasus/print/run0001 \n",
      "2020.07.07 20:08:14.804 UTC:    \n",
      "2020.07.07 20:08:14.811 UTC:   *** To remove your workflow run *** \n",
      "2020.07.07 20:08:14.818 UTC:    \n",
      "2020.07.07 20:08:14.824 UTC:   pegasus-remove /home/scitech/shared-data/scitech/pegasus/print/run0001 \n",
      "2020.07.07 20:08:15.558 UTC:   Time taken to execute is 4.756 seconds \n",
      " \n",
      "2020.07.07 20:08:11.247 UTC: [WARNING]  Replica Catalog is either down or connection to it was never opened  \n",
      "\n"
     ]
    },
    {
     "name": "stdout",
     "output_type": "stream",
     "text": [
      "[\u001b[1;32m##################################################\u001b[0m] 100.0% ..Success (\u001b[1;32mCompleted: 7\u001b[0m, \u001b[1;33mQueued: 0\u001b[0m, \u001b[1;36mRunning: 0\u001b[0m, \u001b[1;31mFailed: 0\u001b[0m)\n"
     ]
    },
    {
     "name": "stderr",
     "output_type": "stream",
     "text": [
      "Analyzer:\n",
      "Your database is compatible with Pegasus version: 5.0.0dev\n",
      "\n",
      "************************************Summary*************************************\n",
      "\n",
      " Submit Directory   : /home/scitech/shared-data/scitech/pegasus/print/run0001\n",
      " Total jobs         :      7 (100.00%)\n",
      " # jobs succeeded   :      7 (100.00%)\n",
      " # jobs failed      :      0 (0.00%)\n",
      " # jobs held        :      0 (0.00%)\n",
      " # jobs unsubmitted :      0 (0.00%)\n",
      "\n",
      " \n",
      "\n",
      "Statistics:\n",
      "Your database is compatible with Pegasus version: 5.0.0dev\n",
      "\n",
      "#\n",
      "# Pegasus Workflow Management System - http://pegasus.isi.edu\n",
      "#\n",
      "# Workflow summary:\n",
      "#   Summary of the workflow execution. It shows total\n",
      "#   tasks/jobs/sub workflows run, how many succeeded/failed etc.\n",
      "#   In case of hierarchical workflow the calculation shows the\n",
      "#   statistics across all the sub workflows.It shows the following\n",
      "#   statistics about tasks, jobs and sub workflows.\n",
      "#     * Succeeded - total count of succeeded tasks/jobs/sub workflows.\n",
      "#     * Failed - total count of failed tasks/jobs/sub workflows.\n",
      "#     * Incomplete - total count of tasks/jobs/sub workflows that are\n",
      "#       not in succeeded or failed state. This includes all the jobs\n",
      "#       that are not submitted, submitted but not completed etc. This\n",
      "#       is calculated as  difference between 'total' count and sum of\n",
      "#       'succeeded' and 'failed' count.\n",
      "#     * Total - total count of tasks/jobs/sub workflows.\n",
      "#     * Retries - total retry count of tasks/jobs/sub workflows.\n",
      "#     * Total+Retries - total count of tasks/jobs/sub workflows executed\n",
      "#       during workflow run. This is the cumulative of retries,\n",
      "#       succeeded and failed count.\n",
      "# Workflow wall time:\n",
      "#   The wall time from the start of the workflow execution to the end as\n",
      "#   reported by the DAGMAN.In case of rescue dag the value is the\n",
      "#   cumulative of all retries.\n",
      "# Cumulative job wall time:\n",
      "#   The sum of the wall time of all jobs as reported by kickstart.\n",
      "#   In case of job retries the value is the cumulative of all retries.\n",
      "#   For workflows having sub workflow jobs (i.e SUBDAG and SUBDAX jobs),\n",
      "#   the wall time value includes jobs from the sub workflows as well.\n",
      "# Cumulative job wall time as seen from submit side:\n",
      "#   The sum of the wall time of all jobs as reported by DAGMan.\n",
      "#   This is similar to the regular cumulative job wall time, but includes\n",
      "#   job management overhead and delays. In case of job retries the value\n",
      "#   is the cumulative of all retries. For workflows having sub workflow\n",
      "#   jobs (i.e SUBDAG and SUBDAX jobs), the wall time value includes jobs\n",
      "#   from the sub workflows as well.\n",
      "# Cumulative job badput wall time:\n",
      "#   The sum of the wall time of all failed jobs as reported by kickstart.\n",
      "#   In case of job retries the value is the cumulative of all retries.\n",
      "#   For workflows having sub workflow jobs (i.e SUBDAG and SUBDAX jobs),\n",
      "#   the wall time value includes jobs from the sub workflows as well.\n",
      "# Cumulative job badput wall time as seen from submit side:\n",
      "#   The sum of the wall time of all failed jobs as reported by DAGMan.\n",
      "#   This is similar to the regular cumulative job badput wall time, but includes\n",
      "#   job management overhead and delays. In case of job retries the value\n",
      "#   is the cumulative of all retries. For workflows having sub workflow\n",
      "#   jobs (i.e SUBDAG and SUBDAX jobs), the wall time value includes jobs\n",
      "#   from the sub workflows as well.\n",
      "------------------------------------------------------------------------------\n",
      "Type           Succeeded Failed  Incomplete  Total     Retries   Total+Retries\n",
      "Tasks          2         0       0           2         0         2            \n",
      "Jobs           7         0       0           7         0         7            \n",
      "Sub-Workflows  0         0       0           0         0         0            \n",
      "------------------------------------------------------------------------------\n",
      "\n",
      "Workflow wall time                                       : 1 min, 29 secs\n",
      "Cumulative job wall time                                 : 21.32 secs\n",
      "Cumulative job wall time as seen from submit side        : 25.0 secs\n",
      "Cumulative job badput wall time                          : 0.0 secs\n",
      "Cumulative job badput wall time as seen from submit side : 0.0 secs\n",
      "\n",
      "# Integrity Metrics\n",
      "# Number of files for which checksums were compared/computed along with total time spent doing it. \n",
      "2 files checksums compared with total duration of 0.22 secs\n",
      "2 files checksums generated with total duration of 0.00 secs\n",
      "\n",
      "# Integrity Errors\n",
      "# Total:\n",
      "#       Total number of integrity errors encountered across all job executions(including retries) of a workflow.\n",
      "# Failures:\n",
      "#       Number of failed jobs where the last job instance had integrity errors.\n",
      "Failures: 0 job failures had integrity errors\n",
      "\n",
      "Summary                       : /home/scitech/shared-data/scitech/pegasus/print/run0001/statistics/summary.txt\n",
      "\n",
      " \n",
      "\n"
     ]
    }
   ],
   "source": [
    "try:\n",
    "    wf.plan(submit=True)\\\n",
    "        .wait()\\\n",
    "        .analyze()\\\n",
    "        .statistics()\n",
    "except PegasusClientError as e:\n",
    "    print(e.output)"
   ]
  },
  {
   "cell_type": "code",
   "execution_count": null,
   "metadata": {},
   "outputs": [],
   "source": []
  }
 ],
 "metadata": {
  "kernelspec": {
   "display_name": "Python 3",
   "language": "python",
   "name": "python3"
  },
  "language_info": {
   "codemirror_mode": {
    "name": "ipython",
    "version": 3
   },
   "file_extension": ".py",
   "mimetype": "text/x-python",
   "name": "python",
   "nbconvert_exporter": "python",
   "pygments_lexer": "ipython3",
   "version": "3.6.8"
  }
 },
 "nbformat": 4,
 "nbformat_minor": 4
}
