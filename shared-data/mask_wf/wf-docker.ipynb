{
 "cells": [
  {
   "cell_type": "code",
   "execution_count": 1,
   "metadata": {},
   "outputs": [
    {
     "ename": "NameError",
     "evalue": "name 'thumbs_up' is not defined",
     "output_type": "error",
     "traceback": [
      "\u001b[0;31m---------------------------------------------------------------------------\u001b[0m",
      "\u001b[0;31mNameError\u001b[0m                                 Traceback (most recent call last)",
      "\u001b[0;32m<ipython-input-1-c0617ca667f7>\u001b[0m in \u001b[0;36m<module>\u001b[0;34m\u001b[0m\n\u001b[1;32m     14\u001b[0m             )\n\u001b[1;32m     15\u001b[0m \u001b[0;34m\u001b[0m\u001b[0m\n\u001b[0;32m---> 16\u001b[0;31m \u001b[0mtc\u001b[0m\u001b[0;34m.\u001b[0m\u001b[0madd_containers\u001b[0m\u001b[0;34m(\u001b[0m\u001b[0mthumbs_up\u001b[0m\u001b[0;34m)\u001b[0m\u001b[0;34m.\u001b[0m\u001b[0mwrite\u001b[0m\u001b[0;34m(\u001b[0m\u001b[0;34m)\u001b[0m\u001b[0;34m\u001b[0m\u001b[0;34m\u001b[0m\u001b[0m\n\u001b[0m\u001b[1;32m     17\u001b[0m \u001b[0;34m\u001b[0m\u001b[0m\n\u001b[1;32m     18\u001b[0m preprocess = Transformation(\n",
      "\u001b[0;31mNameError\u001b[0m: name 'thumbs_up' is not defined"
     ]
    }
   ],
   "source": [
    "import logging\n",
    "from pathlib import Path\n",
    "from Pegasus.api import *\n",
    "import glob\n",
    "import os\n",
    "logging.basicConfig(level = logging.DEBUG)\n",
    "\n",
    "tc = TransformationCatalog()\n",
    "\n",
    "mask_rcnn = Container(\n",
    "                \"mask_rcnn\",\n",
    "                Container.DOCKER,\n",
    "                image=\"docker://vedularaghu/mask_rcnn:latest\"\n",
    "            )\n",
    "\n",
    "tc.add_containers(thumbs_up)\n",
    "\n",
    "preprocess = Transformation(\n",
    "                \"preprocess\",\n",
    "                site=\"condorpool\",\n",
    "                pfn=\"/usr/bin/preprocess.py\",\n",
    "                is_stageable=False,\n",
    "                container=thumbs_up\n",
    "            )\n",
    "\n",
    "tc.add_transformations(preprocess).write()\n",
    "\n",
    "file_list = []\n",
    "output_list = []\n",
    "\n",
    "rc = ReplicaCatalog()\n",
    "\n",
    "\n",
    "for f in glob.glob(\"*.png\"):\n",
    "    file_list.append(File(f))\n",
    "    rc.add_replica(\"local\", File(f), Path(\".\").resolve() / f)\n",
    "    \n",
    "rc.write()\n",
    "\n",
    "for filename in glob.glob(\"*.png\"):\n",
    "    f = filename.strip(\".png\")+\"_norm.png\"\n",
    "    output_list.append(File(f))\n",
    "    \n",
    "# wf = Workflow(\"preprocess\")\n",
    "    \n",
    "# job_preprocess = Job(preprocess)\\\n",
    "#                     .add_inputs(*file_list)\\\n",
    "#                     .add_outputs(*output_list)\n",
    "\n",
    "# wf.add_jobs(job_preprocess)\n",
    "\n",
    "\n",
    "# try:\n",
    "#     wf.plan(submit=True)\\\n",
    "#         .wait()\\\n",
    "#         .analyze()\\\n",
    "#         .statistics()\n",
    "# except PegasusClientError as e:\n",
    "#     print(e.output)       "
   ]
  },
  {
   "cell_type": "code",
   "execution_count": 2,
   "metadata": {},
   "outputs": [
    {
     "data": {
      "text/plain": [
       "'/home/scitech/shared-data/Mask_RCNN/samples/lung'"
      ]
     },
     "execution_count": 2,
     "metadata": {},
     "output_type": "execute_result"
    }
   ],
   "source": [
    "pwd"
   ]
  },
  {
   "cell_type": "code",
   "execution_count": null,
   "metadata": {},
   "outputs": [],
   "source": []
  }
 ],
 "metadata": {
  "kernelspec": {
   "display_name": "Python 3",
   "language": "python",
   "name": "python3"
  },
  "language_info": {
   "codemirror_mode": {
    "name": "ipython",
    "version": 3
   },
   "file_extension": ".py",
   "mimetype": "text/x-python",
   "name": "python",
   "nbconvert_exporter": "python",
   "pygments_lexer": "ipython3",
   "version": "3.6.8"
  }
 },
 "nbformat": 4,
 "nbformat_minor": 4
}
