{
 "cells": [
  {
   "cell_type": "code",
   "execution_count": 1,
   "metadata": {},
   "outputs": [],
   "source": [
    "import logging\n",
    "from pathlib import Path\n",
    "from Pegasus.api import *\n",
    "import glob"
   ]
  },
  {
   "cell_type": "code",
   "execution_count": 2,
   "metadata": {},
   "outputs": [],
   "source": [
    "logging.basicConfig(level=logging.DEBUG)"
   ]
  },
  {
   "cell_type": "code",
   "execution_count": 3,
   "metadata": {},
   "outputs": [],
   "source": [
    "seperate = Transformation(\n",
    "                \"seperate\",\n",
    "                site=\"local\",\n",
    "                pfn=\"/home/scitech/shared-data/wf-3/increment.py\",\n",
    "                is_stageable=True,\n",
    "                arch=Arch.X86_64,\n",
    "                os_type=OS.LINUX\n",
    "            )\n",
    "\n",
    "count = Transformation(\n",
    "                \"count\",\n",
    "                site=\"local\",\n",
    "                pfn=\"/home/scitech/shared-data/wf-3/count.py\",\n",
    "                is_stageable=True,\n",
    "                arch=Arch.X86_64,\n",
    "                os_type=OS.LINUX\n",
    "            )\n",
    "\n",
    "tar = Transformation(\n",
    "                \"tar\",\n",
    "                site=\"condorpool\",\n",
    "                pfn=\"/bin/tar\",\n",
    "                is_stageable=False,\n",
    "                arch=Arch.X86_64,\n",
    "                os_type=OS.LINUX\n",
    "            )"
   ]
  },
  {
   "cell_type": "code",
   "execution_count": 4,
   "metadata": {},
   "outputs": [],
   "source": [
    "tc = TransformationCatalog().add_transformations(seperate, count, tar)"
   ]
  },
  {
   "cell_type": "code",
   "execution_count": 5,
   "metadata": {},
   "outputs": [],
   "source": [
    "wf = Workflow(\"workflow3\")"
   ]
  },
  {
   "cell_type": "code",
   "execution_count": 6,
   "metadata": {},
   "outputs": [],
   "source": [
    "file_list = []\n",
    "rc = ReplicaCatalog()\n",
    "\n",
    "for f in glob.glob(\"nums*.txt\"):\n",
    "    file_list.append(File(f))\n",
    "    rc.add_replica(\"local\", File(f), Path(\".\").resolve() / f)\n",
    "\n",
    "fb1 = File(\"odd_nums.txt\")\n",
    "fb2 = File(\"even_nums.txt\")\n",
    "fc1 = File(\"odd_count.txt\")\n",
    "fc2 = File(\"even_count.txt\")\n",
    "\n",
    "job_seperate = Job(seperate)\\\n",
    "                    .add_inputs(*file_list)\\\n",
    "                    .add_outputs(fb1, fb2)\n",
    "\n",
    "job_count_odd = Job(count)\\\n",
    "                .add_args(fb1, fc1)\\\n",
    "                .add_inputs(fb1)\\\n",
    "                .add_outputs(fc1)\n",
    "\n",
    "job_count_even = Job(count)\\\n",
    "                .add_args(fb2, fc2)\\\n",
    "                .add_inputs(fb2)\\\n",
    "                .add_outputs(fc2)\n",
    "\n",
    "fc3 = File(\"result.tar.gz\")\n",
    "\n",
    "job_tar = Job(tar)\\\n",
    "            .add_args(fc1, fc2)\\\n",
    "            .add_inputs(fc1, fc2)\\\n",
    "            .set_stdout(fc3)\n",
    "\n"
   ]
  },
  {
   "cell_type": "code",
   "execution_count": 7,
   "metadata": {},
   "outputs": [
    {
     "data": {
      "text/plain": [
       "<Pegasus.api.workflow.Workflow at 0x7fe3e037a1d0>"
      ]
     },
     "execution_count": 7,
     "metadata": {},
     "output_type": "execute_result"
    }
   ],
   "source": [
    "wf.add_jobs(job_seperate, job_count_odd, job_count_even, job_tar)\n",
    "wf.add_replica_catalog(rc)\n",
    "wf.add_transformation_catalog(tc)"
   ]
  },
  {
   "cell_type": "code",
   "execution_count": null,
   "metadata": {},
   "outputs": [
    {
     "name": "stderr",
     "output_type": "stream",
     "text": [
      "Plan:\n",
      "2020.07.08 23:01:49.482 UTC:    \n",
      "2020.07.08 23:01:49.488 UTC:   ----------------------------------------------------------------------- \n",
      "2020.07.08 23:01:49.493 UTC:   File for submitting this DAG to HTCondor           : workflow3-0.dag.condor.sub \n",
      "2020.07.08 23:01:49.499 UTC:   Log of DAGMan debugging messages                 : workflow3-0.dag.dagman.out \n",
      "2020.07.08 23:01:49.505 UTC:   Log of HTCondor library output                     : workflow3-0.dag.lib.out \n",
      "2020.07.08 23:01:49.510 UTC:   Log of HTCondor library error messages             : workflow3-0.dag.lib.err \n",
      "2020.07.08 23:01:49.516 UTC:   Log of the life of condor_dagman itself          : workflow3-0.dag.dagman.log \n",
      "2020.07.08 23:01:49.522 UTC:    \n",
      "2020.07.08 23:01:49.528 UTC:   -no_submit given, not submitting DAG to HTCondor.  You can do this with: \n",
      "2020.07.08 23:01:49.539 UTC:   ----------------------------------------------------------------------- \n",
      "2020.07.08 23:01:50.986 UTC:   Your database is compatible with Pegasus version: 5.0.0dev \n",
      "2020.07.08 23:01:52.531 UTC:   Created Pegasus database in: sqlite:////home/scitech/shared-data/wf-3/scitech/pegasus/workflow3/run0003/workflow3-0.replicas.db \n",
      "2020.07.08 23:01:52.536 UTC:   Your database is compatible with Pegasus version: 5.0.0dev \n",
      "2020.07.08 23:01:52.581 UTC:   Output replica catalog set to jdbc:sqlite:/home/scitech/shared-data/wf-3/scitech/pegasus/workflow3/run0003/workflow3-0.replicas.db \n",
      "2020.07.08 23:01:52.796 UTC:   Submitting to condor workflow3-0.dag.condor.sub \n",
      "2020.07.08 23:01:52.846 UTC:    \n",
      "2020.07.08 23:01:52.851 UTC:   Your workflow has been started and is running in the base directory: \n",
      "2020.07.08 23:01:52.857 UTC:    \n",
      "2020.07.08 23:01:52.863 UTC:   /home/scitech/shared-data/wf-3/scitech/pegasus/workflow3/run0003 \n",
      "2020.07.08 23:01:52.868 UTC:    \n",
      "2020.07.08 23:01:52.873 UTC:   *** To monitor the workflow you can run *** \n",
      "2020.07.08 23:01:52.879 UTC:    \n",
      "2020.07.08 23:01:52.885 UTC:   pegasus-status -l /home/scitech/shared-data/wf-3/scitech/pegasus/workflow3/run0003 \n",
      "2020.07.08 23:01:52.890 UTC:    \n",
      "2020.07.08 23:01:52.897 UTC:   *** To remove your workflow run *** \n",
      "2020.07.08 23:01:52.904 UTC:    \n",
      "2020.07.08 23:01:52.911 UTC:   pegasus-remove /home/scitech/shared-data/wf-3/scitech/pegasus/workflow3/run0003 \n",
      "2020.07.08 23:01:53.750 UTC:   Time taken to execute is 5.562 seconds \n",
      " \n",
      "\n"
     ]
    },
    {
     "name": "stdout",
     "output_type": "stream",
     "text": [
      "[\u001b[1;32m######\u001b[0m--------------------------------------------]  11.1% ..Running (\u001b[1;32mCompleted: 2\u001b[0m, \u001b[1;33mQueued: 0\u001b[0m, \u001b[1;36mRunning: 1\u001b[0m, \u001b[1;31mFailed: 0\u001b[0m)"
     ]
    }
   ],
   "source": [
    "try:\n",
    "    wf.plan(submit=True)\\\n",
    "        .wait()\\\n",
    "        .analyze()\\\n",
    "        .statistics()\n",
    "except PegasusClientError as e:\n",
    "    print(e.output)"
   ]
  },
  {
   "cell_type": "code",
   "execution_count": null,
   "metadata": {},
   "outputs": [],
   "source": []
  }
 ],
 "metadata": {
  "kernelspec": {
   "display_name": "Python 3",
   "language": "python",
   "name": "python3"
  },
  "language_info": {
   "codemirror_mode": {
    "name": "ipython",
    "version": 3
   },
   "file_extension": ".py",
   "mimetype": "text/x-python",
   "name": "python",
   "nbconvert_exporter": "python",
   "pygments_lexer": "ipython3",
   "version": "3.6.8"
  }
 },
 "nbformat": 4,
 "nbformat_minor": 4
}
