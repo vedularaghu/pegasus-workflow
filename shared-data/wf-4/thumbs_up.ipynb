{
 "cells": [
  {
   "cell_type": "code",
   "execution_count": null,
   "metadata": {},
   "outputs": [
    {
     "name": "stderr",
     "output_type": "stream",
     "text": [
      "Plan:\n",
      "2020.07.09 23:35:44.568 UTC:    \n",
      "2020.07.09 23:35:44.574 UTC:   ----------------------------------------------------------------------- \n",
      "2020.07.09 23:35:44.579 UTC:   File for submitting this DAG to HTCondor           : add_thumbs-0.dag.condor.sub \n",
      "2020.07.09 23:35:44.584 UTC:   Log of DAGMan debugging messages                 : add_thumbs-0.dag.dagman.out \n",
      "2020.07.09 23:35:44.590 UTC:   Log of HTCondor library output                     : add_thumbs-0.dag.lib.out \n",
      "2020.07.09 23:35:44.596 UTC:   Log of HTCondor library error messages             : add_thumbs-0.dag.lib.err \n",
      "2020.07.09 23:35:44.602 UTC:   Log of the life of condor_dagman itself          : add_thumbs-0.dag.dagman.log \n",
      "2020.07.09 23:35:44.608 UTC:    \n",
      "2020.07.09 23:35:44.614 UTC:   -no_submit given, not submitting DAG to HTCondor.  You can do this with: \n",
      "2020.07.09 23:35:44.626 UTC:   ----------------------------------------------------------------------- \n",
      "2020.07.09 23:35:45.949 UTC:   Your database is compatible with Pegasus version: 5.0.0dev \n",
      "2020.07.09 23:35:47.595 UTC:   Created Pegasus database in: sqlite:////home/scitech/shared-data/wf-4/thumbs_up/scitech/pegasus/add_thumbs/run0001/add_thumbs-0.replicas.db \n",
      "2020.07.09 23:35:47.600 UTC:   Your database is compatible with Pegasus version: 5.0.0dev \n",
      "2020.07.09 23:35:47.662 UTC:   Output replica catalog set to jdbc:sqlite:/home/scitech/shared-data/wf-4/thumbs_up/scitech/pegasus/add_thumbs/run0001/add_thumbs-0.replicas.db \n",
      "2020.07.09 23:35:47.892 UTC:   Submitting to condor add_thumbs-0.dag.condor.sub \n",
      "2020.07.09 23:35:47.936 UTC:    \n",
      "2020.07.09 23:35:47.941 UTC:   Your workflow has been started and is running in the base directory: \n",
      "2020.07.09 23:35:47.947 UTC:    \n",
      "2020.07.09 23:35:47.952 UTC:   /home/scitech/shared-data/wf-4/thumbs_up/scitech/pegasus/add_thumbs/run0001 \n",
      "2020.07.09 23:35:47.960 UTC:    \n",
      "2020.07.09 23:35:47.965 UTC:   *** To monitor the workflow you can run *** \n",
      "2020.07.09 23:35:47.971 UTC:    \n",
      "2020.07.09 23:35:47.976 UTC:   pegasus-status -l /home/scitech/shared-data/wf-4/thumbs_up/scitech/pegasus/add_thumbs/run0001 \n",
      "2020.07.09 23:35:47.981 UTC:    \n",
      "2020.07.09 23:35:47.988 UTC:   *** To remove your workflow run *** \n",
      "2020.07.09 23:35:47.993 UTC:    \n",
      "2020.07.09 23:35:48.000 UTC:   pegasus-remove /home/scitech/shared-data/wf-4/thumbs_up/scitech/pegasus/add_thumbs/run0001 \n",
      "2020.07.09 23:35:48.782 UTC:   Time taken to execute is 5.49 seconds \n",
      " \n",
      "2020.07.09 23:35:42.642 UTC: [WARNING]  --dax option is deprecated. The abstract workflow is passed via the last positional argument on the commandline. \n",
      "\n"
     ]
    },
    {
     "name": "stdout",
     "output_type": "stream",
     "text": [
      "[\u001b[1;32m######\u001b[0m--------------------------------------------]  12.5% ..Running (\u001b[1;32mCompleted: 1\u001b[0m, \u001b[1;33mQueued: 0\u001b[0m, \u001b[1;36mRunning: 1\u001b[0m, \u001b[1;31mFailed: 0\u001b[0m)"
     ]
    }
   ],
   "source": [
    "import logging\n",
    "from pathlib import Path\n",
    "from Pegasus.api import *\n",
    "\n",
    "logging.basicConfig(level = logging.DEBUG)\n",
    "\n",
    "fa = File(\"input.txt\")\n",
    "rc = ReplicaCatalog().add_replica(\"local\", fa, Path(\".\").resolve() / \"input.txt\")\n",
    "\n",
    "tc = TransformationCatalog()\n",
    "\n",
    "thumbs_up = Container(\n",
    "                \"thumbs_up\",\n",
    "                Container.DOCKER,\n",
    "                image=\"docker://vedularaghu/thumbs_up:latest\"\n",
    "            )\n",
    "\n",
    "tc.add_containers(thumbs_up)\n",
    "\n",
    "add_thumbs = Transformation(\n",
    "                        \"add_thumbs\",\n",
    "                        site=\"condorpool\",\n",
    "                        pfn=\"/usr/bin/add_thumbs_up.py\",\n",
    "                        is_stageable=False,\n",
    "                        container=thumbs_up\n",
    "                )\n",
    "\n",
    "tc.add_transformations(add_thumbs)\n",
    "\n",
    "wf = Workflow(\"add_thumbs\")\n",
    "\n",
    "fb = File(\"output.txt\")\n",
    "\n",
    "job_add_thumbs = Job(add_thumbs)\\\n",
    "                    .add_args(fa, fb)\\\n",
    "                    .add_inputs(fa)\\\n",
    "                    .add_outputs(fb)\n",
    "\n",
    "wf.add_jobs(job_add_thumbs)\n",
    "wf.add_replica_catalog(rc)\n",
    "wf.add_transformation_catalog(tc)\n",
    "\n",
    "try:\n",
    "    wf.plan(submit=True)\\\n",
    "        .wait()\\\n",
    "        .analyze()\\\n",
    "        .statistics()\n",
    "except PegasusClientError as e:\n",
    "    print(e.output)\n"
   ]
  },
  {
   "cell_type": "code",
   "execution_count": null,
   "metadata": {},
   "outputs": [],
   "source": []
  }
 ],
 "metadata": {
  "kernelspec": {
   "display_name": "Python 3",
   "language": "python",
   "name": "python3"
  },
  "language_info": {
   "codemirror_mode": {
    "name": "ipython",
    "version": 3
   },
   "file_extension": ".py",
   "mimetype": "text/x-python",
   "name": "python",
   "nbconvert_exporter": "python",
   "pygments_lexer": "ipython3",
   "version": "3.6.8"
  }
 },
 "nbformat": 4,
 "nbformat_minor": 4
}
